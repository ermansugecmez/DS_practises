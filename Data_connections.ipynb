{
 "cells": [
  {
   "cell_type": "code",
   "execution_count": 1,
   "metadata": {
    "ExecuteTime": {
     "end_time": "2021-12-01T12:24:30.723393Z",
     "start_time": "2021-12-01T12:24:28.764078Z"
    }
   },
   "outputs": [],
   "source": [
    "import pandas as pd\n",
    "from pyhive import presto\n",
    "import getpass\n",
    "import auth\n",
    "import psycopg2 as pg\n",
    "import pandas.io.sql as psql\n",
    "import pandas_profiling\n",
    "from datetime import datetime\n",
    "from datetime import date\n",
    "import matplotlib.pyplot as plt\n",
    "import seaborn as sns\n",
    "import numpy as np"
   ]
  },
  {
   "cell_type": "code",
   "execution_count": 2,
   "metadata": {
    "ExecuteTime": {
     "end_time": "2021-12-01T12:24:31.957924Z",
     "start_time": "2021-12-01T12:24:30.725571Z"
    }
   },
   "outputs": [],
   "source": [
    "import pandas as pd\n",
    "from pyhive import presto\n",
    "import getpass\n",
    "import auth\n",
    "import psycopg2 as pg\n",
    "import pandas.io.sql as psql\n",
    "import pandas_profiling\n",
    "from datetime import datetime\n",
    "from datetime import date\n",
    "import matplotlib.pyplot as plt\n",
    "import seaborn as sns\n",
    "import numpy as np\n",
    "import scipy.stats as st\n",
    "from scipy.stats import pearsonr\n",
    "from scipy.stats import spearmanr\n",
    "from sklearn.model_selection import train_test_split \n",
    "from sklearn.linear_model import LinearRegression\n",
    "from sklearn import metrics\n",
    "import statsmodels.api as sm\n",
    "%matplotlib inline\n",
    "from statsmodels.gam.api import GLMGam, BSplines\n",
    "from statsmodels.gam.tests.test_penalized import df_autos\n",
    "from patsy import dmatrices\n",
    "from statsmodels.stats.outliers_influence import variance_inflation_factor\n",
    "from statsmodels.formula.api import ols"
   ]
  },
  {
   "cell_type": "code",
   "execution_count": 23,
   "metadata": {
    "ExecuteTime": {
     "end_time": "2021-11-30T09:11:58.787360Z",
     "start_time": "2021-11-30T09:11:58.785232Z"
    }
   },
   "outputs": [],
   "source": [
    "pd.set_option('display.max_columns', None)"
   ]
  },
  {
   "cell_type": "code",
   "execution_count": 24,
   "metadata": {
    "ExecuteTime": {
     "end_time": "2021-11-30T09:11:58.791791Z",
     "start_time": "2021-11-30T09:11:58.788470Z"
    }
   },
   "outputs": [
    {
     "data": {
      "text/html": [
       "<style>.container { width:80% !important; }</style>"
      ],
      "text/plain": [
       "<IPython.core.display.HTML object>"
      ]
     },
     "metadata": {},
     "output_type": "display_data"
    }
   ],
   "source": [
    "from IPython.core.display import display, HTML \n",
    "display(HTML(\"<style>.container { width:80% !important; }</style>\"))"
   ]
  },
  {
   "cell_type": "code",
   "execution_count": null,
   "metadata": {},
   "outputs": [],
   "source": []
  },
  {
   "cell_type": "code",
   "execution_count": null,
   "metadata": {
    "ExecuteTime": {
     "end_time": "2020-12-14T10:57:06.216640Z",
     "start_time": "2020-12-14T10:56:53.893737Z"
    }
   },
   "outputs": [],
   "source": [
    "!pip install git+https://github.bus.zalan.do/Sonic/zalando-setuptools.git#egg=zalando_setuptools\n",
    "!pip install git+https://github.bus.zalan.do/astra/dwh-connect-tool.git#egg=mops_dwh\n",
    "    \n",
    "from mops_dwh.astra_dwh import AstraDwh\n",
    "connector = AstraDwh(user='esugecmez')"
   ]
  },
  {
   "cell_type": "code",
   "execution_count": null,
   "metadata": {
    "ExecuteTime": {
     "end_time": "2020-12-14T10:57:10.133408Z",
     "start_time": "2020-12-14T10:57:06.218449Z"
    }
   },
   "outputs": [],
   "source": [
    "flags = connector.from_sql(\"\"\"select config_sku, flag_partner_program_config as flag from mops_economics.d_article_config \n",
    "limit 1\"\"\")\n",
    "\n",
    "flags.head()"
   ]
  },
  {
   "cell_type": "code",
   "execution_count": null,
   "metadata": {},
   "outputs": [],
   "source": []
  },
  {
   "cell_type": "code",
   "execution_count": null,
   "metadata": {},
   "outputs": [],
   "source": []
  },
  {
   "cell_type": "code",
   "execution_count": null,
   "metadata": {
    "ExecuteTime": {
     "end_time": "2021-05-07T08:44:12.712264Z",
     "start_time": "2021-05-07T08:44:12.060285Z"
    }
   },
   "outputs": [],
   "source": [
    "import auth\n",
    "import getpass\n",
    "\n",
    "user  = getpass.getuser()\n",
    "token = auth.get_valid_token()\n",
    "import os\n",
    "from pyhive import presto\n",
    "\n",
    "connection = presto.connect(\n",
    "    protocol='https',\n",
    "    host=os.environ['PRESTO_HOST'],\n",
    "    port='443',\n",
    "    username=user,\n",
    "    password=token\n",
    ")"
   ]
  },
  {
   "cell_type": "code",
   "execution_count": null,
   "metadata": {
    "ExecuteTime": {
     "end_time": "2021-05-07T08:49:12.023308Z",
     "start_time": "2021-05-07T08:48:27.642237Z"
    }
   },
   "outputs": [],
   "source": [
    "query = \"\"\"SELECT *\n",
    "FROM dwh_insider.f_salesorder_position orp\n",
    "limit 50\"\"\"\n",
    "image_count = pd.read_sql_query(query, connection)\n",
    "image_count.head()"
   ]
  },
  {
   "cell_type": "code",
   "execution_count": null,
   "metadata": {},
   "outputs": [],
   "source": []
  },
  {
   "cell_type": "code",
   "execution_count": null,
   "metadata": {},
   "outputs": [],
   "source": []
  },
  {
   "cell_type": "code",
   "execution_count": null,
   "metadata": {},
   "outputs": [],
   "source": [
    "import turbodbc as db\n",
    "from turbodbc import connect, make_options, Megabytes\n",
    "options = make_options(read_buffer_size=Megabytes(100),\n",
    "                        parameter_sets_to_buffer=1000,\n",
    "                        varchar_max_character_limit=10000,\n",
    "                        use_async_io=True,\n",
    "                        prefer_unicode=True,\n",
    "                        autocommit=True,\n",
    "                        large_decimals_as_64_bit_types=True,\n",
    "                        limit_varchar_results_to_max=True)\n",
    "conn = connect(dsn=\"exa\", turbodbc_options=options) #put again the dsn of the odbc.ini file\n",
    "cursor = conn.cursor()"
   ]
  },
  {
   "cell_type": "code",
   "execution_count": null,
   "metadata": {},
   "outputs": [],
   "source": [
    "sql = \"\"\"SELECT DISTINCT CONFIG_SKU,BRAND,CATEGORY,CGI,CGII, CGIII FROM ZALANDO_ETL.V_ARTICLE_A\n",
    "\"\"\"\n",
    "cg = pd.DataFrame.from_records(cursor.execute(sql).fetchall())\n",
    "cg.columns=[d[0] for d in cursor.description]\n",
    "cg.count()"
   ]
  },
  {
   "cell_type": "code",
   "execution_count": null,
   "metadata": {},
   "outputs": [],
   "source": []
  },
  {
   "cell_type": "code",
   "execution_count": null,
   "metadata": {},
   "outputs": [],
   "source": []
  },
  {
   "cell_type": "code",
   "execution_count": 1,
   "metadata": {
    "ExecuteTime": {
     "end_time": "2021-10-27T09:50:59.814511Z",
     "start_time": "2021-10-27T09:50:59.342109Z"
    }
   },
   "outputs": [],
   "source": [
    "import turbodbc as db\n",
    "from turbodbc import connect, make_options, Megabytes\n",
    "options = make_options(read_buffer_size=Megabytes(100),\n",
    "                        parameter_sets_to_buffer=1000,\n",
    "                        varchar_max_character_limit=10000,\n",
    "                        use_async_io=True,\n",
    "                        prefer_unicode=True,\n",
    "                        autocommit=True,\n",
    "                        large_decimals_as_64_bit_types=True,\n",
    "                        limit_varchar_results_to_max=True)\n",
    "conn = connect(dsn=\"exaBI\", turbodbc_options=options) #put again the dsn of the odbc.ini file\n",
    "cursor = conn.cursor()"
   ]
  },
  {
   "cell_type": "code",
   "execution_count": 4,
   "metadata": {
    "ExecuteTime": {
     "end_time": "2021-10-27T09:51:15.576589Z",
     "start_time": "2021-10-27T09:51:09.689660Z"
    }
   },
   "outputs": [
    {
     "data": {
      "text/html": [
       "<div>\n",
       "<style scoped>\n",
       "    .dataframe tbody tr th:only-of-type {\n",
       "        vertical-align: middle;\n",
       "    }\n",
       "\n",
       "    .dataframe tbody tr th {\n",
       "        vertical-align: top;\n",
       "    }\n",
       "\n",
       "    .dataframe thead th {\n",
       "        text-align: right;\n",
       "    }\n",
       "</style>\n",
       "<table border=\"1\" class=\"dataframe\">\n",
       "  <thead>\n",
       "    <tr style=\"text-align: right;\">\n",
       "      <th></th>\n",
       "      <th>SK_DATE</th>\n",
       "      <th>SK_SALES_CHANNEL</th>\n",
       "      <th>SALES_CHANNEL_ID</th>\n",
       "      <th>SK_COUNTRY</th>\n",
       "      <th>ISO_COUNTRY_CODE</th>\n",
       "      <th>SK_MERCHANT</th>\n",
       "      <th>MERCHANT_ID</th>\n",
       "      <th>SK_CONFIG</th>\n",
       "      <th>CONFIG_SKU</th>\n",
       "      <th>IS_OUTLET</th>\n",
       "      <th>...</th>\n",
       "      <th>COUNT_SIMPLES_ONLINE_BUYABLE</th>\n",
       "      <th>COUNT_SIMPLES_ONLINE_NOT_BUYABLE</th>\n",
       "      <th>SK_CONFIG_BUYABLE</th>\n",
       "      <th>SK_COUNTRY_CONFIG_BUYABLE</th>\n",
       "      <th>PRODUCT_SIZE_AVAILABILITY</th>\n",
       "      <th>PDP_VIEWS_ALL_MERCHANTS</th>\n",
       "      <th>PFS_STOCK</th>\n",
       "      <th>ZFS_STOCK</th>\n",
       "      <th>DWH_CREATED</th>\n",
       "      <th>DWH_LAST_MODIFIED</th>\n",
       "    </tr>\n",
       "  </thead>\n",
       "  <tbody>\n",
       "    <tr>\n",
       "      <th>0</th>\n",
       "      <td>20200511</td>\n",
       "      <td>15</td>\n",
       "      <td>ebf57ebf-e26d-4ebd-8009-6ad519073d2a</td>\n",
       "      <td>4</td>\n",
       "      <td>IT</td>\n",
       "      <td>29</td>\n",
       "      <td>810d1d00-4312-43e5-bd31-d8373fdd24c7</td>\n",
       "      <td>52699774</td>\n",
       "      <td>CO121G087-J11</td>\n",
       "      <td>1</td>\n",
       "      <td>...</td>\n",
       "      <td>7</td>\n",
       "      <td>0</td>\n",
       "      <td>52699774</td>\n",
       "      <td>4</td>\n",
       "      <td>1.00000</td>\n",
       "      <td>NaN</td>\n",
       "      <td>None</td>\n",
       "      <td>160</td>\n",
       "      <td>2021-02-02 21:46:28.184</td>\n",
       "      <td>2021-02-02 21:46:28.184</td>\n",
       "    </tr>\n",
       "    <tr>\n",
       "      <th>1</th>\n",
       "      <td>20200511</td>\n",
       "      <td>15</td>\n",
       "      <td>ebf57ebf-e26d-4ebd-8009-6ad519073d2a</td>\n",
       "      <td>4</td>\n",
       "      <td>IT</td>\n",
       "      <td>29</td>\n",
       "      <td>810d1d00-4312-43e5-bd31-d8373fdd24c7</td>\n",
       "      <td>52734273</td>\n",
       "      <td>TI111A07S-Q11</td>\n",
       "      <td>1</td>\n",
       "      <td>...</td>\n",
       "      <td>11</td>\n",
       "      <td>0</td>\n",
       "      <td>52734273</td>\n",
       "      <td>4</td>\n",
       "      <td>1.00000</td>\n",
       "      <td>29.0</td>\n",
       "      <td>None</td>\n",
       "      <td>280</td>\n",
       "      <td>2021-02-02 21:46:28.184</td>\n",
       "      <td>2021-02-02 21:46:28.184</td>\n",
       "    </tr>\n",
       "    <tr>\n",
       "      <th>2</th>\n",
       "      <td>20200511</td>\n",
       "      <td>15</td>\n",
       "      <td>ebf57ebf-e26d-4ebd-8009-6ad519073d2a</td>\n",
       "      <td>4</td>\n",
       "      <td>IT</td>\n",
       "      <td>29</td>\n",
       "      <td>810d1d00-4312-43e5-bd31-d8373fdd24c7</td>\n",
       "      <td>52801986</td>\n",
       "      <td>GL921C0K2-M11</td>\n",
       "      <td>1</td>\n",
       "      <td>...</td>\n",
       "      <td>4</td>\n",
       "      <td>1</td>\n",
       "      <td>52801986</td>\n",
       "      <td>4</td>\n",
       "      <td>0.80000</td>\n",
       "      <td>71.0</td>\n",
       "      <td>None</td>\n",
       "      <td>10</td>\n",
       "      <td>2021-02-02 21:46:28.184</td>\n",
       "      <td>2021-02-02 21:46:28.184</td>\n",
       "    </tr>\n",
       "    <tr>\n",
       "      <th>3</th>\n",
       "      <td>20200511</td>\n",
       "      <td>15</td>\n",
       "      <td>ebf57ebf-e26d-4ebd-8009-6ad519073d2a</td>\n",
       "      <td>4</td>\n",
       "      <td>IT</td>\n",
       "      <td>29</td>\n",
       "      <td>810d1d00-4312-43e5-bd31-d8373fdd24c7</td>\n",
       "      <td>52952118</td>\n",
       "      <td>SIF22O085-A11</td>\n",
       "      <td>0</td>\n",
       "      <td>...</td>\n",
       "      <td>6</td>\n",
       "      <td>0</td>\n",
       "      <td>52952118</td>\n",
       "      <td>4</td>\n",
       "      <td>1.00000</td>\n",
       "      <td>1.0</td>\n",
       "      <td>None</td>\n",
       "      <td>942</td>\n",
       "      <td>2021-02-02 21:46:28.184</td>\n",
       "      <td>2021-02-02 21:46:28.184</td>\n",
       "    </tr>\n",
       "    <tr>\n",
       "      <th>4</th>\n",
       "      <td>20200512</td>\n",
       "      <td>15</td>\n",
       "      <td>ebf57ebf-e26d-4ebd-8009-6ad519073d2a</td>\n",
       "      <td>4</td>\n",
       "      <td>IT</td>\n",
       "      <td>29</td>\n",
       "      <td>810d1d00-4312-43e5-bd31-d8373fdd24c7</td>\n",
       "      <td>42504393</td>\n",
       "      <td>CLR22E00A-Q11</td>\n",
       "      <td>0</td>\n",
       "      <td>...</td>\n",
       "      <td>4</td>\n",
       "      <td>2</td>\n",
       "      <td>42504393</td>\n",
       "      <td>4</td>\n",
       "      <td>0.66667</td>\n",
       "      <td>95.0</td>\n",
       "      <td>None</td>\n",
       "      <td>10</td>\n",
       "      <td>2021-02-02 21:46:28.184</td>\n",
       "      <td>2021-02-02 21:46:28.184</td>\n",
       "    </tr>\n",
       "  </tbody>\n",
       "</table>\n",
       "<p>5 rows × 21 columns</p>\n",
       "</div>"
      ],
      "text/plain": [
       "    SK_DATE  SK_SALES_CHANNEL                      SALES_CHANNEL_ID  \\\n",
       "0  20200511                15  ebf57ebf-e26d-4ebd-8009-6ad519073d2a   \n",
       "1  20200511                15  ebf57ebf-e26d-4ebd-8009-6ad519073d2a   \n",
       "2  20200511                15  ebf57ebf-e26d-4ebd-8009-6ad519073d2a   \n",
       "3  20200511                15  ebf57ebf-e26d-4ebd-8009-6ad519073d2a   \n",
       "4  20200512                15  ebf57ebf-e26d-4ebd-8009-6ad519073d2a   \n",
       "\n",
       "   SK_COUNTRY ISO_COUNTRY_CODE  SK_MERCHANT  \\\n",
       "0           4               IT           29   \n",
       "1           4               IT           29   \n",
       "2           4               IT           29   \n",
       "3           4               IT           29   \n",
       "4           4               IT           29   \n",
       "\n",
       "                            MERCHANT_ID  SK_CONFIG     CONFIG_SKU  IS_OUTLET  \\\n",
       "0  810d1d00-4312-43e5-bd31-d8373fdd24c7   52699774  CO121G087-J11          1   \n",
       "1  810d1d00-4312-43e5-bd31-d8373fdd24c7   52734273  TI111A07S-Q11          1   \n",
       "2  810d1d00-4312-43e5-bd31-d8373fdd24c7   52801986  GL921C0K2-M11          1   \n",
       "3  810d1d00-4312-43e5-bd31-d8373fdd24c7   52952118  SIF22O085-A11          0   \n",
       "4  810d1d00-4312-43e5-bd31-d8373fdd24c7   42504393  CLR22E00A-Q11          0   \n",
       "\n",
       "   ...  COUNT_SIMPLES_ONLINE_BUYABLE  COUNT_SIMPLES_ONLINE_NOT_BUYABLE  \\\n",
       "0  ...                             7                                 0   \n",
       "1  ...                            11                                 0   \n",
       "2  ...                             4                                 1   \n",
       "3  ...                             6                                 0   \n",
       "4  ...                             4                                 2   \n",
       "\n",
       "   SK_CONFIG_BUYABLE  SK_COUNTRY_CONFIG_BUYABLE  PRODUCT_SIZE_AVAILABILITY  \\\n",
       "0           52699774                          4                    1.00000   \n",
       "1           52734273                          4                    1.00000   \n",
       "2           52801986                          4                    0.80000   \n",
       "3           52952118                          4                    1.00000   \n",
       "4           42504393                          4                    0.66667   \n",
       "\n",
       "   PDP_VIEWS_ALL_MERCHANTS  PFS_STOCK ZFS_STOCK             DWH_CREATED  \\\n",
       "0                      NaN       None       160 2021-02-02 21:46:28.184   \n",
       "1                     29.0       None       280 2021-02-02 21:46:28.184   \n",
       "2                     71.0       None        10 2021-02-02 21:46:28.184   \n",
       "3                      1.0       None       942 2021-02-02 21:46:28.184   \n",
       "4                     95.0       None        10 2021-02-02 21:46:28.184   \n",
       "\n",
       "        DWH_LAST_MODIFIED  \n",
       "0 2021-02-02 21:46:28.184  \n",
       "1 2021-02-02 21:46:28.184  \n",
       "2 2021-02-02 21:46:28.184  \n",
       "3 2021-02-02 21:46:28.184  \n",
       "4 2021-02-02 21:46:28.184  \n",
       "\n",
       "[5 rows x 21 columns]"
      ]
     },
     "execution_count": 4,
     "metadata": {},
     "output_type": "execute_result"
    }
   ],
   "source": [
    "sql = \"\"\"SELECT * FROM  MERCHANT_MSTR.F_MOPS_MERCHANT_CONFIG_SHOP_DAY\n",
    "WHERE merchant_id = '810d1d00-4312-43e5-bd31-d8373fdd24c7'\n",
    "limit 50\n",
    "\"\"\"\n",
    "Zalando = pd.DataFrame.from_records(cursor.execute(sql).fetchall())\n",
    "Zalando.columns=[d[0] for d in cursor.description]\n",
    "Zalando.head()"
   ]
  },
  {
   "cell_type": "code",
   "execution_count": null,
   "metadata": {},
   "outputs": [],
   "source": []
  },
  {
   "cell_type": "code",
   "execution_count": null,
   "metadata": {},
   "outputs": [],
   "source": [
    "#To save data to S3\n",
    "df.to_parquet('s3://zalando-datalab/data/users/esugecmez/xxxxxx.parquet')\n",
    "#To read data from S3\n",
    "df = pd.read_parquet('s3://zalando-datalab/data/users/esugecmez/xxxxxx.parquet')"
   ]
  },
  {
   "cell_type": "code",
   "execution_count": null,
   "metadata": {},
   "outputs": [],
   "source": []
  },
  {
   "cell_type": "code",
   "execution_count": null,
   "metadata": {},
   "outputs": [],
   "source": []
  },
  {
   "cell_type": "code",
   "execution_count": null,
   "metadata": {},
   "outputs": [],
   "source": []
  },
  {
   "cell_type": "code",
   "execution_count": null,
   "metadata": {
    "ExecuteTime": {
     "end_time": "2021-09-24T09:54:38.859090Z",
     "start_time": "2021-09-24T09:54:38.853790Z"
    }
   },
   "outputs": [],
   "source": [
    "## datalab tips from Konstantinos:\n",
    "\n",
    "'https://github.bus.zalan.do/merchant-analytics/Knowledge-Sharing/blob/master/DataLab%20and%20Python%20every%20day%20tips.ipynb'    \n",
    "    \n",
    "    "
   ]
  },
  {
   "cell_type": "code",
   "execution_count": null,
   "metadata": {},
   "outputs": [],
   "source": []
  },
  {
   "cell_type": "code",
   "execution_count": 29,
   "metadata": {
    "ExecuteTime": {
     "end_time": "2021-12-01T17:08:04.610680Z",
     "start_time": "2021-12-01T17:08:04.608465Z"
    }
   },
   "outputs": [],
   "source": [
    "###Gsheet integration\n",
    "### give this email an editor permission: 'ermansugecmez-drive@team-mea.iam.gserviceaccount.com'"
   ]
  },
  {
   "cell_type": "code",
   "execution_count": 26,
   "metadata": {
    "ExecuteTime": {
     "end_time": "2021-12-01T17:05:03.020457Z",
     "start_time": "2021-12-01T17:05:03.010412Z"
    }
   },
   "outputs": [
    {
     "data": {
      "text/html": [
       "<div>\n",
       "<style scoped>\n",
       "    .dataframe tbody tr th:only-of-type {\n",
       "        vertical-align: middle;\n",
       "    }\n",
       "\n",
       "    .dataframe tbody tr th {\n",
       "        vertical-align: top;\n",
       "    }\n",
       "\n",
       "    .dataframe thead th {\n",
       "        text-align: right;\n",
       "    }\n",
       "</style>\n",
       "<table border=\"1\" class=\"dataframe\">\n",
       "  <thead>\n",
       "    <tr style=\"text-align: right;\">\n",
       "      <th></th>\n",
       "      <th>Name</th>\n",
       "      <th>Age</th>\n",
       "    </tr>\n",
       "  </thead>\n",
       "  <tbody>\n",
       "    <tr>\n",
       "      <th>0</th>\n",
       "      <td>tom</td>\n",
       "      <td>10</td>\n",
       "    </tr>\n",
       "    <tr>\n",
       "      <th>1</th>\n",
       "      <td>nick</td>\n",
       "      <td>15</td>\n",
       "    </tr>\n",
       "    <tr>\n",
       "      <th>2</th>\n",
       "      <td>juli</td>\n",
       "      <td>14</td>\n",
       "    </tr>\n",
       "  </tbody>\n",
       "</table>\n",
       "</div>"
      ],
      "text/plain": [
       "   Name  Age\n",
       "0   tom   10\n",
       "1  nick   15\n",
       "2  juli   14"
      ]
     },
     "execution_count": 26,
     "metadata": {},
     "output_type": "execute_result"
    }
   ],
   "source": [
    "import pandas as pd \n",
    "data = [['tom', 10], ['nick', 15], ['juli', 14]]\n",
    "df = pd.DataFrame(data, columns = ['Name', 'Age'])\n",
    "df"
   ]
  },
  {
   "cell_type": "code",
   "execution_count": 28,
   "metadata": {
    "ExecuteTime": {
     "end_time": "2021-12-01T17:05:23.112933Z",
     "start_time": "2021-12-01T17:05:21.510769Z"
    }
   },
   "outputs": [],
   "source": [
    "### WRITE\n",
    "import warnings\n",
    "warnings.filterwarnings(\"ignore\")\n",
    "# For connect to google sheet\n",
    "import gspread\n",
    "from oauth2client.service_account import ServiceAccountCredentials\n",
    "from df2gspread import df2gspread as d2g\n",
    "import pygsheets\n",
    "\n",
    "# Configure the connection \n",
    "scope = ['https://spreadsheets.google.com/feeds']\n",
    "# Give the path to the Service Account Credential json file \n",
    "credentials = ServiceAccountCredentials.from_json_keyfile_name('/home/esugecmez/nfs/team-mea-8e9a97d757fd.json',scope)\n",
    "# Authorise your Notebook\n",
    "gc = gspread.authorize(credentials)\n",
    "\n",
    "# The sprad sheet ID, which can be taken from the link to the sheet\n",
    "Googlesheet = pygsheets.authorize(service_file='/home/esugecmez/nfs/team-mea-8e9a97d757fd.json')\n",
    "wsheet = Googlesheet.open_by_url('https://docs.google.com/spreadsheets/d/1-TlnvgvT5eNQgLGrAOIgkylv4TKHow7G4P_VlYFUxwM/edit#gid=0')\n",
    "data_df = wsheet.worksheet('title','Sheet1')\n",
    "data_df.clear(start='A1', end=None)\n",
    "data_df.set_dataframe(df, 'A1', copy_index= False , copy_head=True, extend=False, fit=False, escape_formulae=False)"
   ]
  },
  {
   "cell_type": "code",
   "execution_count": 24,
   "metadata": {
    "ExecuteTime": {
     "end_time": "2021-12-01T17:04:02.113706Z",
     "start_time": "2021-12-01T17:04:00.922570Z"
    }
   },
   "outputs": [],
   "source": [
    "### READ\n",
    "# https://gspread.readthedocs.io/en/latest/user-guide.html#\n",
    "import gspread\n",
    "from oauth2client.service_account import ServiceAccountCredentials\n",
    "import pandas as pd\n",
    "\n",
    "scope = ['https://spreadsheets.google.com/feeds',\n",
    "         'https://www.googleapis.com/auth/drive']\n",
    "\n",
    "credentials = ServiceAccountCredentials.from_json_keyfile_name(\n",
    "         '/home/esugecmez/nfs/team-mea-8e9a97d757fd.json', scope) # Your json file here\n",
    "\n",
    "gc = gspread.authorize(credentials)\n",
    "\n",
    "wks = gc.open_by_key('1-TlnvgvT5eNQgLGrAOIgkylv4TKHow7G4P_VlYFUxwM').worksheet(\"Sheet1\")\n",
    "data = wks.get_all_values()\n",
    "list_df = pd.DataFrame(data, columns=data.pop(0))"
   ]
  },
  {
   "cell_type": "code",
   "execution_count": 25,
   "metadata": {
    "ExecuteTime": {
     "end_time": "2021-12-01T17:04:02.252789Z",
     "start_time": "2021-12-01T17:04:02.244817Z"
    }
   },
   "outputs": [
    {
     "data": {
      "text/html": [
       "<div>\n",
       "<style scoped>\n",
       "    .dataframe tbody tr th:only-of-type {\n",
       "        vertical-align: middle;\n",
       "    }\n",
       "\n",
       "    .dataframe tbody tr th {\n",
       "        vertical-align: top;\n",
       "    }\n",
       "\n",
       "    .dataframe thead th {\n",
       "        text-align: right;\n",
       "    }\n",
       "</style>\n",
       "<table border=\"1\" class=\"dataframe\">\n",
       "  <thead>\n",
       "    <tr style=\"text-align: right;\">\n",
       "      <th></th>\n",
       "      <th>a</th>\n",
       "      <th>d</th>\n",
       "      <th>s</th>\n",
       "      <th>as</th>\n",
       "    </tr>\n",
       "  </thead>\n",
       "  <tbody>\n",
       "    <tr>\n",
       "      <th>0</th>\n",
       "      <td>a</td>\n",
       "      <td>d</td>\n",
       "      <td>s</td>\n",
       "      <td>as</td>\n",
       "    </tr>\n",
       "    <tr>\n",
       "      <th>1</th>\n",
       "      <td>a</td>\n",
       "      <td>d</td>\n",
       "      <td>s</td>\n",
       "      <td>as</td>\n",
       "    </tr>\n",
       "    <tr>\n",
       "      <th>2</th>\n",
       "      <td>a</td>\n",
       "      <td>d</td>\n",
       "      <td>s</td>\n",
       "      <td>as</td>\n",
       "    </tr>\n",
       "    <tr>\n",
       "      <th>3</th>\n",
       "      <td>a</td>\n",
       "      <td>d</td>\n",
       "      <td>s</td>\n",
       "      <td>as</td>\n",
       "    </tr>\n",
       "    <tr>\n",
       "      <th>4</th>\n",
       "      <td>a</td>\n",
       "      <td>d</td>\n",
       "      <td>s</td>\n",
       "      <td>as</td>\n",
       "    </tr>\n",
       "    <tr>\n",
       "      <th>5</th>\n",
       "      <td>a</td>\n",
       "      <td>d</td>\n",
       "      <td>s</td>\n",
       "      <td>as</td>\n",
       "    </tr>\n",
       "    <tr>\n",
       "      <th>6</th>\n",
       "      <td>a</td>\n",
       "      <td>d</td>\n",
       "      <td>s</td>\n",
       "      <td>as</td>\n",
       "    </tr>\n",
       "    <tr>\n",
       "      <th>7</th>\n",
       "      <td>a</td>\n",
       "      <td>d</td>\n",
       "      <td>s</td>\n",
       "      <td>as</td>\n",
       "    </tr>\n",
       "    <tr>\n",
       "      <th>8</th>\n",
       "      <td>a</td>\n",
       "      <td>d</td>\n",
       "      <td>s</td>\n",
       "      <td>as</td>\n",
       "    </tr>\n",
       "    <tr>\n",
       "      <th>9</th>\n",
       "      <td>a</td>\n",
       "      <td>d</td>\n",
       "      <td>s</td>\n",
       "      <td>as</td>\n",
       "    </tr>\n",
       "  </tbody>\n",
       "</table>\n",
       "</div>"
      ],
      "text/plain": [
       "   a  d  s  as\n",
       "0  a  d  s  as\n",
       "1  a  d  s  as\n",
       "2  a  d  s  as\n",
       "3  a  d  s  as\n",
       "4  a  d  s  as\n",
       "5  a  d  s  as\n",
       "6  a  d  s  as\n",
       "7  a  d  s  as\n",
       "8  a  d  s  as\n",
       "9  a  d  s  as"
      ]
     },
     "execution_count": 25,
     "metadata": {},
     "output_type": "execute_result"
    }
   ],
   "source": [
    "list_df"
   ]
  },
  {
   "cell_type": "code",
   "execution_count": null,
   "metadata": {},
   "outputs": [],
   "source": []
  },
  {
   "cell_type": "code",
   "execution_count": null,
   "metadata": {},
   "outputs": [],
   "source": []
  },
  {
   "cell_type": "code",
   "execution_count": null,
   "metadata": {},
   "outputs": [],
   "source": []
  },
  {
   "cell_type": "code",
   "execution_count": null,
   "metadata": {},
   "outputs": [],
   "source": []
  },
  {
   "cell_type": "code",
   "execution_count": null,
   "metadata": {},
   "outputs": [],
   "source": []
  },
  {
   "cell_type": "code",
   "execution_count": null,
   "metadata": {},
   "outputs": [],
   "source": []
  }
 ],
 "metadata": {
  "hide_input": false,
  "kernelspec": {
   "display_name": "Python 3 (ipykernel)",
   "language": "python",
   "name": "python3"
  },
  "language_info": {
   "codemirror_mode": {
    "name": "ipython",
    "version": 3
   },
   "file_extension": ".py",
   "mimetype": "text/x-python",
   "name": "python",
   "nbconvert_exporter": "python",
   "pygments_lexer": "ipython3",
   "version": "3.7.8"
  }
 },
 "nbformat": 4,
 "nbformat_minor": 4
}
